{
  "nbformat": 4,
  "nbformat_minor": 0,
  "metadata": {
    "colab": {
      "provenance": [],
      "authorship_tag": "ABX9TyNHr/Rkz+YKVhWzAGs/7Q9M",
      "include_colab_link": true
    },
    "kernelspec": {
      "name": "python3",
      "display_name": "Python 3"
    },
    "language_info": {
      "name": "python"
    }
  },
  "cells": [
    {
      "cell_type": "markdown",
      "metadata": {
        "id": "view-in-github",
        "colab_type": "text"
      },
      "source": [
        "<a href=\"https://colab.research.google.com/github/bomul1236/MathML/blob/main/4_5_1_%EB%A6%BF%EC%A7%80_%ED%9A%8C%EA%B7%80(p204~207).ipynb\" target=\"_parent\"><img src=\"https://colab.research.google.com/assets/colab-badge.svg\" alt=\"Open In Colab\"/></a>"
      ]
    },
    {
      "cell_type": "code",
      "source": [
        "import numpy as np # numpy 라이브러리를 np라는 별칭으로 가져옵니다."
      ],
      "metadata": {
        "id": "ot3c7PXvBiXD"
      },
      "execution_count": null,
      "outputs": []
    },
    {
      "cell_type": "code",
      "source": [
        "np.random.seed(42) # 난수 생성을 위한 시드를 설정합니다.\n",
        "m = 20 # 샘플 개수\n",
        "x = 3 * np.random.rand(m, 1) # 열 벡터\n",
        "y = 1 + 0.5 * x + np.random.randn(m, 1) / 1.5 # 열 벡터\n",
        "x_new = np.linspace(0, 3, 100).reshape(100, 1) # 0~3의 범위에서 100개의 숫자를 균일한 간격으로 생성합니다."
      ],
      "metadata": {
        "id": "0DQba0ePCRb-"
      },
      "execution_count": null,
      "outputs": []
    },
    {
      "cell_type": "code",
      "execution_count": null,
      "metadata": {
        "colab": {
          "base_uri": "https://localhost:8080/"
        },
        "id": "cgNaS4GMAao-",
        "outputId": "c2c845d9-9ff2-44a5-929c-277ea3bcbbfc"
      },
      "outputs": [
        {
          "output_type": "execute_result",
          "data": {
            "text/plain": [
              "array([[1.55325833]])"
            ]
          },
          "metadata": {},
          "execution_count": 6
        }
      ],
      "source": [
        "from sklearn.linear_model import Ridge # sklearn 라이브러리에서 릿지 회귀 모델을 가져옵니다.\n",
        "ridge_reg = Ridge(alpha=0.1, solver=\"cholesky\") # alpha=0.1 : 릿지 회귀 모델의 규제 강도를 나타냅니다. # solver=\"cholesky\": 릿지 회귀 모델의 최적화 방법을 지정합니다.\n",
        "ridge_reg.fit(x, y) # 주어진 데이터에 대해 릿지 회귀 모델을 학습합니다.\n",
        "ridge_reg.predict([[1.5]]) # 학습된 릿지 회귀 모델을 사용하여 예측을 수행합니다."
      ]
    },
    {
      "cell_type": "code",
      "source": [
        "from sklearn.linear_model import SGDRegressor # sklearn 라이브러리에서 SGDRegressor를 가져옵니다."
      ],
      "metadata": {
        "id": "89flpDIHDWj7"
      },
      "execution_count": null,
      "outputs": []
    },
    {
      "cell_type": "code",
      "source": [
        "sgd_reg = SGDRegressor(penalty=\"l2\", alpha=0.1 / m, tol=None, # 경사 하강법을 사용하여 선형 회귀 모델을 학습합니다.\n",
        "                       max_iter=1000, eta0=0.01, random_state=42)\n",
        "sgd_reg.fit(x, y.ravel())  # 주어진 데이터에 대해 SGD 모델을 학습합니다.\n",
        "sgd_reg.predict([[1.5]]) # SGD 모델을 사용하여 예측을 수행합니다."
      ],
      "metadata": {
        "colab": {
          "base_uri": "https://localhost:8080/"
        },
        "id": "lYc90WKrCdyy",
        "outputId": "1940b475-1e7f-4cf5-d4d5-fdca39adddde"
      },
      "execution_count": null,
      "outputs": [
        {
          "output_type": "execute_result",
          "data": {
            "text/plain": [
              "array([1.55302613])"
            ]
          },
          "metadata": {},
          "execution_count": 11
        }
      ]
    }
  ]
}