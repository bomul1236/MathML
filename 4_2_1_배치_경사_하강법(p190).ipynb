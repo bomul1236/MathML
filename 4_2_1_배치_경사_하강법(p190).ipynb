{
  "nbformat": 4,
  "nbformat_minor": 0,
  "metadata": {
    "colab": {
      "provenance": [],
      "authorship_tag": "ABX9TyO7jF1MNxDin0rRNSjvpkb0",
      "include_colab_link": true
    },
    "kernelspec": {
      "name": "python3",
      "display_name": "Python 3"
    },
    "language_info": {
      "name": "python"
    }
  },
  "cells": [
    {
      "cell_type": "markdown",
      "metadata": {
        "id": "view-in-github",
        "colab_type": "text"
      },
      "source": [
        "<a href=\"https://colab.research.google.com/github/bomul1236/MathML/blob/main/4_2_1_%EB%B0%B0%EC%B9%98_%EA%B2%BD%EC%82%AC_%ED%95%98%EA%B0%95%EB%B2%95(p190).ipynb\" target=\"_parent\"><img src=\"https://colab.research.google.com/assets/colab-badge.svg\" alt=\"Open In Colab\"/></a>"
      ]
    },
    {
      "cell_type": "code",
      "source": [
        "import numpy as np\n",
        "\n",
        "np.random.seed(42) # 동일하게 재현되도록 하기 위해 지정합니다.\n",
        "m = 100 # 샘플 개수\n",
        "x = 2 * np.random.rand(m, 1) # 열 벡터\n",
        "y = 4 + 3 * x + np.random.randn(m, 1) # 열 벡터"
      ],
      "metadata": {
        "id": "lfmRwE6O3yll"
      },
      "execution_count": 10,
      "outputs": []
    },
    {
      "cell_type": "code",
      "source": [
        "from sklearn.preprocessing import add_dummy_feature\n",
        "\n",
        "x_b = add_dummy_feature(x) # 각 샘플에 x0 = 1 을 추가합니다.\n",
        "theta_best = np.linalg.inv(x_b.T @ x_b) @ x_b.T @ y"
      ],
      "metadata": {
        "id": "tsjum9cM34Fr"
      },
      "execution_count": 13,
      "outputs": []
    },
    {
      "cell_type": "code",
      "source": [
        "eta = 0.1 # 학습률\n",
        "n_epochs = 1000\n",
        "m = len(x_b) # 샘플 개수\n",
        "\n",
        "np.random.seed(42)\n",
        "theta = np.random.randn(2, 1) # 모델 파라미터를 랜덤하게 초기화합니다\n",
        "\n",
        "for epoch in range(n_epochs):\n",
        "    gradients = 2 / m * x_b.T @ (x_b @ theta - y)\n",
        "    theta = theta - eta * gradients"
      ],
      "metadata": {
        "id": "WZhkl_MK2svh"
      },
      "execution_count": 14,
      "outputs": []
    },
    {
      "cell_type": "code",
      "source": [
        "theta"
      ],
      "metadata": {
        "colab": {
          "base_uri": "https://localhost:8080/"
        },
        "id": "KEdhuIX23TPz",
        "outputId": "ca1d8cd1-e466-4566-e9dc-13d5e73dfda0"
      },
      "execution_count": 15,
      "outputs": [
        {
          "output_type": "execute_result",
          "data": {
            "text/plain": [
              "array([[4.21509616],\n",
              "       [2.77011339]])"
            ]
          },
          "metadata": {},
          "execution_count": 15
        }
      ]
    }
  ]
}