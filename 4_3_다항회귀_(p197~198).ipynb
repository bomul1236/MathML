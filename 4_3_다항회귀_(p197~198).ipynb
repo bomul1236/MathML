{
  "nbformat": 4,
  "nbformat_minor": 0,
  "metadata": {
    "colab": {
      "provenance": [],
      "authorship_tag": "ABX9TyOmZe0LP4j4u91YkS85jdPK",
      "include_colab_link": true
    },
    "kernelspec": {
      "name": "python3",
      "display_name": "Python 3"
    },
    "language_info": {
      "name": "python"
    }
  },
  "cells": [
    {
      "cell_type": "markdown",
      "metadata": {
        "id": "view-in-github",
        "colab_type": "text"
      },
      "source": [
        "<a href=\"https://colab.research.google.com/github/bomul1236/MathML/blob/main/4_3_%EB%8B%A4%ED%95%AD%ED%9A%8C%EA%B7%80_(p197~198).ipynb\" target=\"_parent\"><img src=\"https://colab.research.google.com/assets/colab-badge.svg\" alt=\"Open In Colab\"/></a>"
      ]
    },
    {
      "cell_type": "code",
      "source": [
        "import numpy as np\n",
        "\n",
        "np.random.seed(42) # 동일하게 재현되도록 하기 위해 지정합니다.\n",
        "m = 100 # 샘플 개수\n",
        "x = 2 * np.random.rand(m, 1) # 열 벡터\n",
        "y = 4 + 3 * x + np.random.randn(m, 1) # 열 벡터"
      ],
      "metadata": {
        "id": "4ZUHRk8D6jP6"
      },
      "execution_count": 2,
      "outputs": []
    },
    {
      "cell_type": "code",
      "source": [
        "np.random.seed(42)\n",
        "m = 100\n",
        "x = 6 * np.random.rand(m, 1) - 3\n",
        "y = 0.5 * x ** 2 + x + 2 + np.random.randn(m, 1)"
      ],
      "metadata": {
        "id": "n27Cy5LO6BLm"
      },
      "execution_count": 3,
      "outputs": []
    },
    {
      "cell_type": "code",
      "execution_count": 6,
      "metadata": {
        "colab": {
          "base_uri": "https://localhost:8080/"
        },
        "id": "_POmunGU52Ap",
        "outputId": "f2b43e69-243a-4e42-ef2f-c160e5ba755d"
      },
      "outputs": [
        {
          "output_type": "execute_result",
          "data": {
            "text/plain": [
              "array([-0.75275929])"
            ]
          },
          "metadata": {},
          "execution_count": 6
        }
      ],
      "source": [
        "from sklearn.preprocessing import PolynomialFeatures\n",
        "\n",
        "poly_features = PolynomialFeatures(degree=2, include_bias=False)\n",
        "x_poly = poly_features.fit_transform(x)\n",
        "x[0]"
      ]
    },
    {
      "cell_type": "code",
      "source": [
        "from sklearn.linear_model import LinearRegression"
      ],
      "metadata": {
        "id": "vX1ME0kJ6xkQ"
      },
      "execution_count": 10,
      "outputs": []
    },
    {
      "cell_type": "code",
      "source": [
        "lin_reg = LinearRegression()\n",
        "lin_reg.fit(x_poly, y)\n",
        "lin_reg.intercept_, lin_reg.coef_"
      ],
      "metadata": {
        "colab": {
          "base_uri": "https://localhost:8080/"
        },
        "id": "SC-66KRa6rC_",
        "outputId": "65df9bc7-1ce2-4963-9e48-5a12946f7005"
      },
      "execution_count": 11,
      "outputs": [
        {
          "output_type": "execute_result",
          "data": {
            "text/plain": [
              "(array([1.78134581]), array([[0.93366893, 0.56456263]]))"
            ]
          },
          "metadata": {},
          "execution_count": 11
        }
      ]
    }
  ]
}