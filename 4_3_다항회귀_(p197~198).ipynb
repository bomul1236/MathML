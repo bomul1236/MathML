{
  "nbformat": 4,
  "nbformat_minor": 0,
  "metadata": {
    "colab": {
      "provenance": [],
      "authorship_tag": "ABX9TyNj3EWlUqDBGyO1his6L1Br",
      "include_colab_link": true
    },
    "kernelspec": {
      "name": "python3",
      "display_name": "Python 3"
    },
    "language_info": {
      "name": "python"
    }
  },
  "cells": [
    {
      "cell_type": "markdown",
      "metadata": {
        "id": "view-in-github",
        "colab_type": "text"
      },
      "source": [
        "<a href=\"https://colab.research.google.com/github/bomul1236/MathML/blob/main/4_3_%EB%8B%A4%ED%95%AD%ED%9A%8C%EA%B7%80_(p197~198).ipynb\" target=\"_parent\"><img src=\"https://colab.research.google.com/assets/colab-badge.svg\" alt=\"Open In Colab\"/></a>"
      ]
    },
    {
      "cell_type": "code",
      "source": [
        "import numpy as np # numpy 라이브러리를 np라는 별칭으로 가져옵니다.\n",
        "\n",
        "np.random.seed(42) # 난수 생성을 위한 시드를 설정합니다.\n",
        "m = 100 # 샘플 개수\n",
        "x = 2 * np.random.rand(m, 1) # 열 벡터\n",
        "y = 4 + 3 * x + np.random.randn(m, 1) # 열 벡터"
      ],
      "metadata": {
        "id": "4ZUHRk8D6jP6"
      },
      "execution_count": null,
      "outputs": []
    },
    {
      "cell_type": "code",
      "source": [
        "np.random.seed(42) # 난수 생성을 위한 시드를 설정합니다.\n",
        "m = 100 # 샘플 개수\n",
        "x = 6 * np.random.rand(m, 1) - 3 # 열 벡터\n",
        "y = 0.5 * x ** 2 + x + 2 + np.random.randn(m, 1) # 열 벡터"
      ],
      "metadata": {
        "id": "n27Cy5LO6BLm"
      },
      "execution_count": null,
      "outputs": []
    },
    {
      "cell_type": "code",
      "execution_count": null,
      "metadata": {
        "colab": {
          "base_uri": "https://localhost:8080/"
        },
        "id": "_POmunGU52Ap",
        "outputId": "f2b43e69-243a-4e42-ef2f-c160e5ba755d"
      },
      "outputs": [
        {
          "output_type": "execute_result",
          "data": {
            "text/plain": [
              "array([-0.75275929])"
            ]
          },
          "metadata": {},
          "execution_count": 6
        }
      ],
      "source": [
        "from sklearn.preprocessing import PolynomialFeatures # sklearn 라이브러리에서 다항 특성 생성기를 가져옵니다.\n",
        "\n",
        "poly_features = PolynomialFeatures(degree=2, include_bias=False) # PolynomialFeatures : 다항 특성을 생성합니다. # degree=2 : 최고차수를 정합니다. # include_bias=False : 절편 항 포함여부를 나타냅니다.\n",
        "x_poly = poly_features.fit_transform(x) # fit_transform(x) : 주어진 x 에 대하여 다항 특성을 생성합니다.\n",
        "x[0] # 다항 특성을 생성하기 전 입력 데이터 입니다."
      ]
    },
    {
      "cell_type": "code",
      "source": [
        "from sklearn.linear_model import LinearRegression # sklearn 라이브러리에서 선형 회귀 모델을 가져옵니다."
      ],
      "metadata": {
        "id": "vX1ME0kJ6xkQ"
      },
      "execution_count": null,
      "outputs": []
    },
    {
      "cell_type": "code",
      "source": [
        "lin_reg = LinearRegression() # 선형 회귀 모델을 생성합니다.\n",
        "lin_reg.fit(x_poly, y) # 다항 특성을 가진 x_poly 와 타겟 데이터 y를 이용하여 모델을 학습시킵니다.\n",
        "lin_reg.intercept_, lin_reg.coef_ # 절편 값과 계수를 나타냅니다."
      ],
      "metadata": {
        "colab": {
          "base_uri": "https://localhost:8080/"
        },
        "id": "SC-66KRa6rC_",
        "outputId": "65df9bc7-1ce2-4963-9e48-5a12946f7005"
      },
      "execution_count": null,
      "outputs": [
        {
          "output_type": "execute_result",
          "data": {
            "text/plain": [
              "(array([1.78134581]), array([[0.93366893, 0.56456263]]))"
            ]
          },
          "metadata": {},
          "execution_count": 11
        }
      ]
    }
  ]
}